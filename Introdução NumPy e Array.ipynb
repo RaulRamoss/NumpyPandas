{
 "cells": [
  {
   "cell_type": "markdown",
   "id": "beec5001",
   "metadata": {},
   "source": [
    "# NumPy\n",
    "\n",
    "- https://numpy.org/\n",
    "- O nome NumPy vem de Numerical Python\n",
    "    - Biblioteca de computação numérica\n",
    "    - Otimizada para cálculos pesados\n",
    "<br><br>\n",
    "- No NumPy vamos trabalhar com **arrays**, que são mais rápidos e mais performáticos que listas\n",
    "    - Arrays são estruturas de dados que guardam itens **do mesmo tipo** (diferente das listas)\n",
    "        - **[\"As operações matemáticas que devem ser executadas em arrays seriam extremamente ineficientes se os arrays não fossem homogêneos.\"](https://numpy.org/doc/stable/user/absolute_beginners.html#whats-the-difference-between-a-python-list-and-a-numpy-array)** \n",
    "    - Assim como **listas**, são um conjunto de **elementos ordenados que são mutáveis e de comprimento variável**\n",
    "    - Além disso, **podemos fazer várias operações com arrays (como multiplicação e soma) que não podem ser feitas com listas** mas são fundamentais para o nosso processo de Ciência de dados\n",
    "    - Obs: listas são estrutudas de dados do Python e arrays não, **array é uma estrutura de dados própria do numpy**"
   ]
  },
  {
   "cell_type": "code",
   "execution_count": 2,
   "id": "6897ba09",
   "metadata": {},
   "outputs": [],
   "source": [
    "# Importar o numpy\n",
    "import numpy as np"
   ]
  },
  {
   "cell_type": "markdown",
   "id": "ceab80cb",
   "metadata": {},
   "source": [
    "- **A importância do NumPy**\n",
    "    - Vamos supor que temos a venda e comissão (em percentual) de 5 vendedores e queremos saber qual vai ser o salário de cada um deles (para isso precisamos multiplicar a venda pela comissão dividida por 100)"
   ]
  },
  {
   "cell_type": "code",
   "execution_count": 2,
   "id": "05ad5937",
   "metadata": {},
   "outputs": [],
   "source": [
    "# Venda e comissão\n",
    "venda_valor = [150000,230000,82000,143000,184000]\n",
    "comissao = [5,8,8,5,12]"
   ]
  },
  {
   "cell_type": "code",
   "execution_count": 10,
   "id": "a5f201b3",
   "metadata": {},
   "outputs": [
    {
     "data": {
      "text/plain": [
       "list"
      ]
     },
     "execution_count": 10,
     "metadata": {},
     "output_type": "execute_result"
    }
   ],
   "source": [
    "# Qual o tipo desse dado?\n",
    "type(venda_valor)"
   ]
  },
  {
   "cell_type": "code",
   "execution_count": 14,
   "id": "bf6e29df",
   "metadata": {},
   "outputs": [
    {
     "ename": "TypeError",
     "evalue": "unsupported operand type(s) for /: 'list' and 'int'",
     "output_type": "error",
     "traceback": [
      "\u001b[1;31m---------------------------------------------------------------------------\u001b[0m",
      "\u001b[1;31mTypeError\u001b[0m                                 Traceback (most recent call last)",
      "Input \u001b[1;32mIn [14]\u001b[0m, in \u001b[0;36m<cell line: 2>\u001b[1;34m()\u001b[0m\n\u001b[0;32m      1\u001b[0m \u001b[38;5;66;03m# Ao tentar fazer essa operação com listas, teremos um erro\u001b[39;00m\n\u001b[1;32m----> 2\u001b[0m venda_valor\u001b[38;5;241m*\u001b[39m(\u001b[43mcomissao\u001b[49m\u001b[38;5;241;43m/\u001b[39;49m\u001b[38;5;241;43m100\u001b[39;49m)\n",
      "\u001b[1;31mTypeError\u001b[0m: unsupported operand type(s) for /: 'list' and 'int'"
     ]
    }
   ],
   "source": [
    "# Ao tentar fazer essa operação com listas, teremos um erro\n",
    "venda_valor*(comissao/100)"
   ]
  },
  {
   "cell_type": "markdown",
   "id": "ffc918ab",
   "metadata": {},
   "source": [
    "- **Podemos transformar uma lista em um array**\n",
    "    - https://numpy.org/doc/stable/user/basics.creation.html#converting-python-sequences-to-numpy-arrays"
   ]
  },
  {
   "cell_type": "code",
   "execution_count": 17,
   "id": "257a30cc",
   "metadata": {},
   "outputs": [],
   "source": [
    "# Transformando em um array\n",
    "venda_valor_array=np.array(venda_valor)\n",
    "comissao_array=np.array(comissao)"
   ]
  },
  {
   "cell_type": "code",
   "execution_count": 20,
   "id": "3bcf68d3",
   "metadata": {},
   "outputs": [
    {
     "name": "stdout",
     "output_type": "stream",
     "text": [
      "[ 7500. 18400.  6560.  7150. 22080.]\n"
     ]
    }
   ],
   "source": [
    "# Agora vamos conseguir fazer sendo um array (salario é uma array tbm)\n",
    "salario=comissao*(venda_valor_array/100)\n",
    "print(salario)"
   ]
  },
  {
   "cell_type": "markdown",
   "id": "b92e0922",
   "metadata": {},
   "source": [
    "- **Agora que vimos a importância do array, podemos falar um pouco mais sobre ele**\n",
    "    - https://numpy.org/doc/stable/user/quickstart.html"
   ]
  },
  {
   "cell_type": "code",
   "execution_count": 9,
   "id": "681f902a",
   "metadata": {},
   "outputs": [
    {
     "data": {
      "text/plain": [
       "array([[ 0,  1,  2,  3,  4],\n",
       "       [ 5,  6,  7,  8,  9],\n",
       "       [10, 11, 12, 13, 14]])"
      ]
     },
     "execution_count": 9,
     "metadata": {},
     "output_type": "execute_result"
    }
   ],
   "source": [
    "# EXEMPLO 1\n",
    "# arange = quantidade de dados\n",
    "# reshape = quantidade de linhas e colunas do array\n",
    "a1 = np.arange(15).reshape(3,5)\n",
    "a1"
   ]
  },
  {
   "cell_type": "code",
   "execution_count": 10,
   "id": "a301a31d",
   "metadata": {},
   "outputs": [
    {
     "data": {
      "text/plain": [
       "array([2, 3, 4, 5, 6])"
      ]
     },
     "execution_count": 10,
     "metadata": {},
     "output_type": "execute_result"
    }
   ],
   "source": [
    "# EXEMPLO 2\n",
    "# arange = quantidade de dados\n",
    "# parametros do array = (numero inicial, numero final que n vai contar)\n",
    "a2 = np.arange(2,7)\n",
    "a2"
   ]
  },
  {
   "cell_type": "code",
   "execution_count": 11,
   "id": "fe8ecaf2",
   "metadata": {},
   "outputs": [
    {
     "data": {
      "text/plain": [
       "array([2, 4, 6, 8])"
      ]
     },
     "execution_count": 11,
     "metadata": {},
     "output_type": "execute_result"
    }
   ],
   "source": [
    "# EXEMPLO 3\n",
    "# arange = quantidade de dados (Se passar o parametros, ele exclui o ultimo)\n",
    "# parametros do array = (numero inicial, numero final que n vai contar, pulando)\n",
    "a3 = np.arange(2,10,2)\n",
    "a3"
   ]
  },
  {
   "cell_type": "markdown",
   "id": "887d3c30",
   "metadata": {},
   "source": [
    "## VETOR = ARRAY EM UMA DIMENSÃO (UMA LINHA)\n",
    "## MATRIZ = ARRAY COM MAIS DE UMA DIMENSÃO"
   ]
  },
  {
   "cell_type": "code",
   "execution_count": 15,
   "id": "0724b73e",
   "metadata": {},
   "outputs": [
    {
     "data": {
      "text/plain": [
       "2"
      ]
     },
     "execution_count": 15,
     "metadata": {},
     "output_type": "execute_result"
    }
   ],
   "source": [
    "# Verificando a dimensão desse array\n",
    "a1.ndim"
   ]
  },
  {
   "cell_type": "code",
   "execution_count": 17,
   "id": "407d28d5",
   "metadata": {},
   "outputs": [
    {
     "data": {
      "text/plain": [
       "(3, 5)"
      ]
     },
     "execution_count": 17,
     "metadata": {},
     "output_type": "execute_result"
    }
   ],
   "source": [
    "# Verificando a forma do array\n",
    "a1.shape"
   ]
  },
  {
   "cell_type": "code",
   "execution_count": 18,
   "id": "f11f65a1",
   "metadata": {},
   "outputs": [
    {
     "data": {
      "text/plain": [
       "dtype('int32')"
      ]
     },
     "execution_count": 18,
     "metadata": {},
     "output_type": "execute_result"
    }
   ],
   "source": [
    "# Verificando o tipo dos dados\n",
    "a1.dtype"
   ]
  },
  {
   "cell_type": "markdown",
   "id": "42851cf6",
   "metadata": {},
   "source": [
    "- Primeiro tente responder o tipo de dado dos 3 arrays abaixo e depois escreva o código para o numpy retornar essa informação"
   ]
  },
  {
   "cell_type": "code",
   "execution_count": 19,
   "id": "a20fd99a",
   "metadata": {},
   "outputs": [],
   "source": [
    "# Considerando os 3 arrays abaixo\n",
    "array1 = np.array([1,2,3,4,5])\n",
    "array2 = np.array([1,2,3,4.5,5])\n",
    "array3 = np.array([1,2,3,'4',5])"
   ]
  },
  {
   "cell_type": "code",
   "execution_count": 23,
   "id": "73fbfa4b",
   "metadata": {},
   "outputs": [
    {
     "data": {
      "text/plain": [
       "dtype('int32')"
      ]
     },
     "execution_count": 23,
     "metadata": {},
     "output_type": "execute_result"
    }
   ],
   "source": [
    "# Verificando o tipo de dado do primeiro array e retornando esse array\n",
    "array1.dtype"
   ]
  },
  {
   "cell_type": "code",
   "execution_count": 24,
   "id": "63240549",
   "metadata": {},
   "outputs": [
    {
     "data": {
      "text/plain": [
       "dtype('float64')"
      ]
     },
     "execution_count": 24,
     "metadata": {},
     "output_type": "execute_result"
    }
   ],
   "source": [
    "# Fazendo a mesma coisa para o array2\n",
    "array2.dtype"
   ]
  },
  {
   "cell_type": "code",
   "execution_count": 25,
   "id": "851d0103",
   "metadata": {},
   "outputs": [
    {
     "data": {
      "text/plain": [
       "dtype('<U11')"
      ]
     },
     "execution_count": 25,
     "metadata": {},
     "output_type": "execute_result"
    }
   ],
   "source": [
    "# E para o array3\n",
    "array3.dtype"
   ]
  },
  {
   "cell_type": "markdown",
   "id": "8fa2daa2",
   "metadata": {},
   "source": [
    "- **Criando o nosso próprio array**"
   ]
  },
  {
   "cell_type": "code",
   "execution_count": 26,
   "id": "58e48dcd",
   "metadata": {},
   "outputs": [
    {
     "data": {
      "text/plain": [
       "array([1, 2, 3, 4, 5])"
      ]
     },
     "execution_count": 26,
     "metadata": {},
     "output_type": "execute_result"
    }
   ],
   "source": [
    "# Criando um array qualquer de números inteiros\n",
    "a = np.array([1,2,3,4,5])\n",
    "a"
   ]
  },
  {
   "cell_type": "code",
   "execution_count": 27,
   "id": "599e20dd",
   "metadata": {},
   "outputs": [
    {
     "data": {
      "text/plain": [
       "array([1. , 2. , 3. , 4.7, 5. ])"
      ]
     },
     "execution_count": 27,
     "metadata": {},
     "output_type": "execute_result"
    }
   ],
   "source": [
    "# Criando um segundo array com valores decimais\n",
    "b = np.array([1,2,3,4.7,5])\n",
    "b"
   ]
  },
  {
   "cell_type": "code",
   "execution_count": 30,
   "id": "daa59fb4",
   "metadata": {},
   "outputs": [
    {
     "data": {
      "text/plain": [
       "array([[0., 0., 0., 0.],\n",
       "       [0., 0., 0., 0.]])"
      ]
     },
     "execution_count": 30,
     "metadata": {},
     "output_type": "execute_result"
    }
   ],
   "source": [
    "# Criando um array apenas de valores zero e transformando em matriz\n",
    "c = np.zeros(8).reshape(2,4)\n",
    "c"
   ]
  },
  {
   "cell_type": "code",
   "execution_count": 33,
   "id": "754b4f6c",
   "metadata": {},
   "outputs": [
    {
     "data": {
      "text/plain": [
       "array([  0,   1,   2,   3,   4,   5,   6,   7,   8,   9,  10,  11,  12,\n",
       "        13,  14,  15,  16,  17,  18,  19,  20,  21,  22,  23,  24,  25,\n",
       "        26,  27,  28,  29,  30,  31,  32,  33,  34,  35,  36,  37,  38,\n",
       "        39,  40,  41,  42,  43,  44,  45,  46,  47,  48,  49,  50,  51,\n",
       "        52,  53,  54,  55,  56,  57,  58,  59,  60,  61,  62,  63,  64,\n",
       "        65,  66,  67,  68,  69,  70,  71,  72,  73,  74,  75,  76,  77,\n",
       "        78,  79,  80,  81,  82,  83,  84,  85,  86,  87,  88,  89,  90,\n",
       "        91,  92,  93,  94,  95,  96,  97,  98,  99, 100])"
      ]
     },
     "execution_count": 33,
     "metadata": {},
     "output_type": "execute_result"
    }
   ],
   "source": [
    "# Criando um array com uma lista de valores (o ultimo numero n é mostrado)\n",
    "d = np.arange(101)\n",
    "d"
   ]
  },
  {
   "cell_type": "code",
   "execution_count": 36,
   "id": "82eae68c",
   "metadata": {},
   "outputs": [
    {
     "data": {
      "text/plain": [
       "array([15, 16, 17, 18, 19, 20, 21, 22, 23, 24, 25])"
      ]
     },
     "execution_count": 36,
     "metadata": {},
     "output_type": "execute_result"
    }
   ],
   "source": [
    "# Adicionando um intervalo para o array\n",
    "e = np.arange(15,26)\n",
    "e"
   ]
  },
  {
   "cell_type": "code",
   "execution_count": 37,
   "id": "57bef7a4",
   "metadata": {},
   "outputs": [
    {
     "data": {
      "text/plain": [
       "array([15, 17, 19, 21, 23, 25])"
      ]
     },
     "execution_count": 37,
     "metadata": {},
     "output_type": "execute_result"
    }
   ],
   "source": [
    "# Adicionando um \"passo\" para o array\n",
    "f = np.arange(15,26,2)\n",
    "f"
   ]
  },
  {
   "cell_type": "code",
   "execution_count": 44,
   "id": "2e47319b",
   "metadata": {},
   "outputs": [
    {
     "data": {
      "text/plain": [
       "array([ 5.        ,  5.55555556,  6.11111111,  6.66666667,  7.22222222,\n",
       "        7.77777778,  8.33333333,  8.88888889,  9.44444444, 10.        ])"
      ]
     },
     "execution_count": 44,
     "metadata": {},
     "output_type": "execute_result"
    }
   ],
   "source": [
    "# Criando um novo array com os valores igualmente espaçados (utilizando o linspace)\n",
    "# parametros linspace = (valor inicial, valor final, qtde de valores)\n",
    "g = np.linspace(5,10,10)\n",
    "g"
   ]
  },
  {
   "cell_type": "markdown",
   "id": "8057a955",
   "metadata": {},
   "source": [
    "- O array de uma dimensão é o que chamamos de vetor e o de duas dimensões de matriz"
   ]
  },
  {
   "cell_type": "code",
   "execution_count": 49,
   "id": "73f7202b",
   "metadata": {},
   "outputs": [
    {
     "data": {
      "text/plain": [
       "array([[150000, 230000,  82000, 143000, 184000],\n",
       "       [     5,      8,      8,      5,     12]])"
      ]
     },
     "execution_count": 49,
     "metadata": {},
     "output_type": "execute_result"
    }
   ],
   "source": [
    "# Vamos considerar esses dados abaixo\n",
    "dados_venda = np.array([[150000,230000,82000,143000,184000],[5,8,8,5,12]])\n",
    "dados_venda"
   ]
  },
  {
   "cell_type": "code",
   "execution_count": 48,
   "id": "25cb923d",
   "metadata": {},
   "outputs": [
    {
     "data": {
      "text/plain": [
       "(2, 5)"
      ]
     },
     "execution_count": 48,
     "metadata": {},
     "output_type": "execute_result"
    }
   ],
   "source": [
    "# Verificando a forma do array\n",
    "dados_venda.shape"
   ]
  },
  {
   "cell_type": "code",
   "execution_count": 50,
   "id": "cccc4831",
   "metadata": {},
   "outputs": [
    {
     "data": {
      "text/plain": [
       "dtype('int32')"
      ]
     },
     "execution_count": 50,
     "metadata": {},
     "output_type": "execute_result"
    }
   ],
   "source": [
    "# Verificando o tipo dos dados\n",
    "dados_venda.dtype"
   ]
  },
  {
   "cell_type": "code",
   "execution_count": 52,
   "id": "a92e5dc2",
   "metadata": {},
   "outputs": [
    {
     "data": {
      "text/plain": [
       "array([['Lucas', 'Bia', 'Jean', 'Gabi', 'Pedro'],\n",
       "       ['150000', '230000', '82000', '143000', '184000']], dtype='<U11')"
      ]
     },
     "execution_count": 52,
     "metadata": {},
     "output_type": "execute_result"
    }
   ],
   "source": [
    "# Agora considerando esses novos dados\n",
    "dados_venda2 = np.array([['Lucas','Bia','Jean','Gabi','Pedro'],[150000,230000,82000,143000,184000]])\n",
    "dados_venda2"
   ]
  },
  {
   "cell_type": "code",
   "execution_count": 53,
   "id": "0f0d71f2",
   "metadata": {},
   "outputs": [
    {
     "data": {
      "text/plain": [
       "(2, 5)"
      ]
     },
     "execution_count": 53,
     "metadata": {},
     "output_type": "execute_result"
    }
   ],
   "source": [
    "# Verificando a forma do array\n",
    "dados_venda2.shape"
   ]
  },
  {
   "cell_type": "code",
   "execution_count": 55,
   "id": "5f4f5aa3",
   "metadata": {},
   "outputs": [
    {
     "data": {
      "text/plain": [
       "dtype('<U11')"
      ]
     },
     "execution_count": 55,
     "metadata": {},
     "output_type": "execute_result"
    }
   ],
   "source": [
    "# Verificando o tipo dos dados\n",
    "dados_venda2.dtype"
   ]
  },
  {
   "cell_type": "markdown",
   "id": "98abd2fd",
   "metadata": {},
   "source": [
    "- **Assim como listas, também podemos buscar elementos no array utilizando seus índices**\n",
    "    - https://numpy.org/doc/stable/user/basics.indexing.html"
   ]
  },
  {
   "cell_type": "code",
   "execution_count": 3,
   "id": "b82ed08b",
   "metadata": {},
   "outputs": [
    {
     "data": {
      "text/plain": [
       "array([[ 0,  1,  2,  3,  4],\n",
       "       [ 5,  6,  7,  8,  9],\n",
       "       [10, 11, 12, 13, 14]])"
      ]
     },
     "execution_count": 3,
     "metadata": {},
     "output_type": "execute_result"
    }
   ],
   "source": [
    "# Utilizando o mesmo array do exemplo\n",
    "a = np.arange(15).reshape(3, 5)\n",
    "a"
   ]
  },
  {
   "cell_type": "code",
   "execution_count": 10,
   "id": "6c89502c",
   "metadata": {},
   "outputs": [
    {
     "data": {
      "text/plain": [
       "array([0, 1, 2, 3, 4])"
      ]
     },
     "execution_count": 10,
     "metadata": {},
     "output_type": "execute_result"
    }
   ],
   "source": [
    "# Buscando a primeira linha\n",
    "a[0]"
   ]
  },
  {
   "cell_type": "code",
   "execution_count": 12,
   "id": "afae77d6",
   "metadata": {},
   "outputs": [
    {
     "data": {
      "text/plain": [
       "3"
      ]
     },
     "execution_count": 12,
     "metadata": {},
     "output_type": "execute_result"
    }
   ],
   "source": [
    "# Na primeira linha, buscando o elemento de índice 3\n",
    "a[0][3]"
   ]
  },
  {
   "cell_type": "code",
   "execution_count": 14,
   "id": "538b582a",
   "metadata": {},
   "outputs": [
    {
     "data": {
      "text/plain": [
       "array([1, 2, 3])"
      ]
     },
     "execution_count": 14,
     "metadata": {},
     "output_type": "execute_result"
    }
   ],
   "source": [
    "# Buscando os elementos de índice 1 a 3 (incluindo o 3) na primeira linha\n",
    "a[0][1:4]"
   ]
  },
  {
   "cell_type": "code",
   "execution_count": 17,
   "id": "4c37f0c5",
   "metadata": {},
   "outputs": [
    {
     "data": {
      "text/plain": [
       "array([ 6,  7,  8,  9, 10, 11, 12, 13, 14])"
      ]
     },
     "execution_count": 17,
     "metadata": {},
     "output_type": "execute_result"
    }
   ],
   "source": [
    "# Buscando apenas os valores maiores que 5\n",
    "a[a>5]"
   ]
  },
  {
   "cell_type": "code",
   "execution_count": 21,
   "id": "a41370d3",
   "metadata": {},
   "outputs": [],
   "source": [
    "# Buscando valores maiores que 5 E (&) menores que 11. OBS: ou é | (barra reta)\n",
    "novo_array = a[(a>5)&(a<11)]"
   ]
  },
  {
   "cell_type": "code",
   "execution_count": 24,
   "id": "89a830e6",
   "metadata": {},
   "outputs": [
    {
     "data": {
      "text/plain": [
       "array([ 6,  7,  8,  9, 10])"
      ]
     },
     "execution_count": 24,
     "metadata": {},
     "output_type": "execute_result"
    }
   ],
   "source": [
    "# Visualizando o array\n",
    "novo_array"
   ]
  },
  {
   "cell_type": "markdown",
   "id": "a4d50267",
   "metadata": {},
   "source": [
    "- **Operações com array**\n",
    "    - https://numpy.org/doc/stable/user/absolute_beginners.html#basic-array-operations"
   ]
  },
  {
   "cell_type": "code",
   "execution_count": 26,
   "id": "449c5ecb",
   "metadata": {},
   "outputs": [
    {
     "data": {
      "text/plain": [
       "array([[0, 1, 2],\n",
       "       [3, 4, 5]])"
      ]
     },
     "execution_count": 26,
     "metadata": {},
     "output_type": "execute_result"
    }
   ],
   "source": [
    "# Considerando o array abaixo\n",
    "dados = np.arange(6).reshape(2, 3)\n",
    "dados"
   ]
  },
  {
   "cell_type": "code",
   "execution_count": 27,
   "id": "77fe144d",
   "metadata": {},
   "outputs": [
    {
     "data": {
      "text/plain": [
       "15"
      ]
     },
     "execution_count": 27,
     "metadata": {},
     "output_type": "execute_result"
    }
   ],
   "source": [
    "# Somando todos os valores\n",
    "dados.sum()"
   ]
  },
  {
   "cell_type": "code",
   "execution_count": 28,
   "id": "e798bfde",
   "metadata": {},
   "outputs": [
    {
     "data": {
      "text/plain": [
       "array([ 3, 12])"
      ]
     },
     "execution_count": 28,
     "metadata": {},
     "output_type": "execute_result"
    }
   ],
   "source": [
    "# Somando apenas os valores da linha\n",
    "dados.sum(axis=1)"
   ]
  },
  {
   "cell_type": "code",
   "execution_count": 30,
   "id": "fb1b1c71",
   "metadata": {},
   "outputs": [
    {
     "data": {
      "text/plain": [
       "array([[ 0,  1,  3],\n",
       "       [ 3,  7, 12]], dtype=int32)"
      ]
     },
     "execution_count": 30,
     "metadata": {},
     "output_type": "execute_result"
    }
   ],
   "source": [
    "# Fazendo a soma acumulada desses valores\n",
    "dados.cumsum(axis=1)"
   ]
  },
  {
   "cell_type": "code",
   "execution_count": 31,
   "id": "123b89d9",
   "metadata": {},
   "outputs": [
    {
     "data": {
      "text/plain": [
       "array([3, 5, 7])"
      ]
     },
     "execution_count": 31,
     "metadata": {},
     "output_type": "execute_result"
    }
   ],
   "source": [
    "# Somando apenas os valores da coluna\n",
    "dados.sum(axis=0)"
   ]
  },
  {
   "cell_type": "code",
   "execution_count": 32,
   "id": "116deb4d",
   "metadata": {},
   "outputs": [
    {
     "data": {
      "text/plain": [
       "array([[1, 2, 3],\n",
       "       [4, 5, 6]])"
      ]
     },
     "execution_count": 32,
     "metadata": {},
     "output_type": "execute_result"
    }
   ],
   "source": [
    "# Somando 1 em todos os valores\n",
    "dados+1"
   ]
  },
  {
   "cell_type": "code",
   "execution_count": 33,
   "id": "a875e862",
   "metadata": {},
   "outputs": [
    {
     "data": {
      "text/plain": [
       "array([[ 0,  2,  4],\n",
       "       [ 6,  8, 10]])"
      ]
     },
     "execution_count": 33,
     "metadata": {},
     "output_type": "execute_result"
    }
   ],
   "source": [
    "# Multiplicando 2 em todos os valores do array\n",
    "dados*2"
   ]
  },
  {
   "cell_type": "code",
   "execution_count": 36,
   "id": "d8a0195f",
   "metadata": {},
   "outputs": [
    {
     "data": {
      "text/plain": [
       "array([0, 3])"
      ]
     },
     "execution_count": 36,
     "metadata": {},
     "output_type": "execute_result"
    }
   ],
   "source": [
    "# Verificando o menor valor desse array\n",
    "dados.min()\n",
    "# Verificando o menor valor desse array na primeira linha\n",
    "dados.min(axis=1)"
   ]
  },
  {
   "cell_type": "code",
   "execution_count": 37,
   "id": "79bd940c",
   "metadata": {},
   "outputs": [
    {
     "data": {
      "text/plain": [
       "array([2, 5])"
      ]
     },
     "execution_count": 37,
     "metadata": {},
     "output_type": "execute_result"
    }
   ],
   "source": [
    "# E agora o maior valor\n",
    "dados.max()\n",
    "# Verificando o menor valor desse array na primeira linha\n",
    "dados.max(axis=1)"
   ]
  },
  {
   "cell_type": "code",
   "execution_count": 40,
   "id": "7ac9cbd4",
   "metadata": {},
   "outputs": [
    {
     "data": {
      "text/plain": [
       "1.0"
      ]
     },
     "execution_count": 40,
     "metadata": {},
     "output_type": "execute_result"
    }
   ],
   "source": [
    "# Calculando a média da primeira linha\n",
    "dados[0].mean()"
   ]
  },
  {
   "cell_type": "code",
   "execution_count": 41,
   "id": "484841c4",
   "metadata": {},
   "outputs": [
    {
     "data": {
      "text/plain": [
       "4.0"
      ]
     },
     "execution_count": 41,
     "metadata": {},
     "output_type": "execute_result"
    }
   ],
   "source": [
    "# E da segunda linha\n",
    "dados[1].mean()"
   ]
  },
  {
   "cell_type": "code",
   "execution_count": 42,
   "id": "717b4ae7",
   "metadata": {},
   "outputs": [
    {
     "data": {
      "text/plain": [
       "2.5"
      ]
     },
     "execution_count": 42,
     "metadata": {},
     "output_type": "execute_result"
    }
   ],
   "source": [
    "# Verificando a mediana\n",
    "np.median(dados)"
   ]
  },
  {
   "cell_type": "markdown",
   "id": "d8e896a7",
   "metadata": {},
   "source": [
    "- Inclusive podemos fazer operação entre arrays"
   ]
  },
  {
   "cell_type": "code",
   "execution_count": 45,
   "id": "4a3376e4",
   "metadata": {},
   "outputs": [],
   "source": [
    "# Considerando esses 2 arrays\n",
    "array1 = np.array([1,2,3,4,5])\n",
    "array2 = np.array([7,8,9,10,11])"
   ]
  },
  {
   "cell_type": "code",
   "execution_count": 46,
   "id": "13850eb3",
   "metadata": {},
   "outputs": [
    {
     "data": {
      "text/plain": [
       "array([ 8, 10, 12, 14, 16])"
      ]
     },
     "execution_count": 46,
     "metadata": {},
     "output_type": "execute_result"
    }
   ],
   "source": [
    "# Somando os arrays\n",
    "array1+array2"
   ]
  },
  {
   "cell_type": "code",
   "execution_count": 47,
   "id": "cc571152",
   "metadata": {},
   "outputs": [
    {
     "data": {
      "text/plain": [
       "array([ 7, 16, 27, 40, 55])"
      ]
     },
     "execution_count": 47,
     "metadata": {},
     "output_type": "execute_result"
    }
   ],
   "source": [
    "# Multiplicando esses arrays\n",
    "array1*array2"
   ]
  },
  {
   "cell_type": "code",
   "execution_count": 49,
   "id": "bfc1673b",
   "metadata": {},
   "outputs": [
    {
     "data": {
      "text/plain": [
       "array([       1,      256,    19683,  1048576, 48828125], dtype=int32)"
      ]
     },
     "execution_count": 49,
     "metadata": {},
     "output_type": "execute_result"
    }
   ],
   "source": [
    "# Potência\n",
    "array1**array2"
   ]
  }
 ],
 "metadata": {
  "kernelspec": {
   "display_name": "Python 3 (ipykernel)",
   "language": "python",
   "name": "python3"
  },
  "language_info": {
   "codemirror_mode": {
    "name": "ipython",
    "version": 3
   },
   "file_extension": ".py",
   "mimetype": "text/x-python",
   "name": "python",
   "nbconvert_exporter": "python",
   "pygments_lexer": "ipython3",
   "version": "3.9.12"
  }
 },
 "nbformat": 4,
 "nbformat_minor": 5
}
